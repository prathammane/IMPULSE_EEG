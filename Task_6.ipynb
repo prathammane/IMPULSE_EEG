{
  "cells": [
    {
      "cell_type": "markdown",
      "metadata": {
        "id": "ee9m3CNEcQus"
      },
      "source": [
        "### Task 6"
      ]
    },
    {
      "cell_type": "markdown",
      "source": [
        "Mount the drive in our code for extracting thr data set"
      ],
      "metadata": {
        "id": "4zVInjWfCWjU"
      }
    },
    {
      "cell_type": "code",
      "execution_count": 5,
      "metadata": {
        "colab": {
          "base_uri": "https://localhost:8080/"
        },
        "id": "dKZ74s6AjiCJ",
        "outputId": "6089cb70-a74f-4e98-e873-8d7d357ef435"
      },
      "outputs": [
        {
          "output_type": "stream",
          "name": "stdout",
          "text": [
            "Drive already mounted at /content/drive; to attempt to forcibly remount, call drive.mount(\"/content/drive\", force_remount=True).\n"
          ]
        }
      ],
      "source": [
        "from google.colab import drive\n",
        "\n",
        "# Mount Google Drive\n",
        "drive.mount('/content/drive')"
      ]
    },
    {
      "cell_type": "markdown",
      "source": [
        "EEG Signal Classification Using Fourier and ZCR Features with SVM (labels 0 1 2 3 represents four classes respectively) this code also gives evaluation matrix"
      ],
      "metadata": {
        "id": "NPNT0uEdCbx8"
      }
    },
    {
      "cell_type": "code",
      "source": [
        "import os\n",
        "import numpy as np\n",
        "import pandas as pd\n",
        "from sklearn.model_selection import train_test_split\n",
        "from sklearn.svm import SVC\n",
        "from sklearn.preprocessing import StandardScaler\n",
        "from sklearn.metrics import classification_report, balanced_accuracy_score, roc_auc_score\n",
        "\n",
        "# Function to load data and assign labels\n",
        "def load_data(data_path, sample_size=None):\n",
        "    features = []\n",
        "    labels = []\n",
        "    for label_folder in sorted(os.listdir(data_path)):\n",
        "        folder_path = os.path.join(data_path, label_folder)\n",
        "        if os.path.isdir(folder_path):\n",
        "            if label_folder == \"Complex_Partial_Seizures\":\n",
        "                label = 0\n",
        "            elif label_folder == \"Electrographic_Seizures\":\n",
        "                label = 1\n",
        "            elif label_folder == \"Normal\":\n",
        "                label = 2\n",
        "            elif label_folder == \"Video_detected_Seizures_with_no_visual_change_over_EEG\":\n",
        "                label = 3  # Folder name is the label\n",
        "            else:\n",
        "                continue  # Skip unknown folders\n",
        "\n",
        "            for file in os.listdir(folder_path):\n",
        "                if file.endswith('.npy'):\n",
        "                    file_path = os.path.join(folder_path, file)\n",
        "                    sample = np.load(file_path)  # Load the npy file\n",
        "                    features.append(extract_features_from_sample(sample))\n",
        "                    labels.append(label)\n",
        "                    if sample_size and len(features) >= sample_size:\n",
        "                        return np.array(features), np.array(labels)\n",
        "    return np.array(features), np.array(labels)\n",
        "\n",
        "# Function to extract fewer Fourier features and ZCR features from a single sample\n",
        "def extract_features_from_sample(sample):\n",
        "    num_channels, num_points = sample.shape\n",
        "    # Use only a smaller portion of Fourier features (e.g., first 10 frequencies)\n",
        "    fourier_features = []\n",
        "    for channel in range(num_channels):\n",
        "        fft_values = np.fft.fft(sample[channel])\n",
        "        fourier_features.extend(np.abs(fft_values[:10]))  # Only first 10 frequencies\n",
        "    # ZCR features (unchanged)\n",
        "    zcr_features = []\n",
        "    for channel in range(num_channels):\n",
        "        zcr = ((sample[channel][:-1] * sample[channel][1:]) < 0).sum() / len(sample[channel])\n",
        "        zcr_features.append(zcr)\n",
        "    return fourier_features + zcr_features\n",
        "\n",
        "# Load a smaller sample of training and validation data (e.g., 500 samples)\n",
        "train_data_path = 'drive/MyDrive/EEG_Data/train_data'\n",
        "val_data_path = 'drive/MyDrive/EEG_Data/validation_data'\n",
        "X_train, y_train = load_data(train_data_path, sample_size=500)\n",
        "X_val, y_val = load_data(val_data_path, sample_size=500)\n",
        "\n",
        "# Check the class distribution in the training data\n",
        "print(\"Class distribution in y_train:\", pd.Series(y_train).value_counts())\n",
        "\n",
        "# If classes are missing or there is only one class, raise an error or fix the dataset\n",
        "if len(np.unique(y_train)) < 2:\n",
        "    raise ValueError(\"The training data contains less than two classes. Please check your dataset.\")\n",
        "\n",
        "# Load test data\n",
        "def load_test_data(test_path):\n",
        "    test_features = []\n",
        "    test_filenames = []\n",
        "    for file in os.listdir(test_path):\n",
        "        if file.endswith('.npy'):\n",
        "            file_path = os.path.join(test_path, file)\n",
        "            sample = np.load(file_path)\n",
        "            test_features.append(extract_features_from_sample(sample))\n",
        "            test_filenames.append(file)\n",
        "    return np.array(test_features), test_filenames\n",
        "\n",
        "X_test, test_filenames = load_test_data('drive/MyDrive/EEG_Data/test_data')\n",
        "\n",
        "# Normalize the features\n",
        "scaler = StandardScaler()\n",
        "X_train = scaler.fit_transform(X_train)\n",
        "X_val = scaler.transform(X_val)\n",
        "X_test = scaler.transform(X_test)\n",
        "\n",
        "# Train an SVM model with a smaller complexity (e.g., lower C, different kernel)\n",
        "svm_model = SVC(kernel='rbf', C=0.1, gamma=0.1, random_state=42, probability=True)\n",
        "svm_model.fit(X_train, y_train)\n",
        "\n",
        "# Validate the model\n",
        "y_val_pred = svm_model.predict(X_val)\n",
        "y_val_proba = svm_model.predict_proba(X_val)\n",
        "\n",
        "# Evaluation metrics\n",
        "print(\"Classification Report:\")\n",
        "print(classification_report(y_val, y_val_pred, zero_division=1))\n",
        "roc_auc = roc_auc_score(y_val, y_val_proba, multi_class='ovr', average='macro')\n",
        "balanced_acc = balanced_accuracy_score(y_val, y_val_pred)\n",
        "print(f\"ROC AUC Score: {roc_auc}\")\n",
        "print(f\"Balanced Accuracy Score: {balanced_acc}\")\n"
      ],
      "metadata": {
        "colab": {
          "base_uri": "https://localhost:8080/",
          "height": 824
        },
        "id": "NNnr0qesXQBa",
        "outputId": "22fc3869-1d85-4ff0-cb1b-0b64984cd2a4"
      },
      "execution_count": 6,
      "outputs": [
        {
          "output_type": "stream",
          "name": "stdout",
          "text": [
            "\n",
            "Classification Report:\n",
            "              precision    recall  f1-score   support\n",
            "\n",
            "           0       0.78      0.79      0.79       530\n",
            "           1       0.85      0.71      0.78       136\n",
            "           2       0.79      0.83      0.81       693\n",
            "           3       0.90      0.76      0.82        21\n",
            "\n",
            "    accuracy                           0.81      1403\n",
            "   macro avg       0.83      0.77      0.80      1403\n",
            "weighted avg       0.81      0.81      0.81      1403\n",
            "\n",
            "\n",
            "\n"
          ]
        },
        {
          "output_type": "display_data",
          "data": {
            "text/plain": [
              "<Figure size 800x600 with 2 Axes>"
            ],
            "image/png": "[encoded data removed]"
          },
          "metadata": {}
        }
      ]
    },
    {
      "cell_type": "code",
      "source": [],
      "metadata": {
        "id": "_Q2BKe1eXyLp"
      },
      "execution_count": null,
      "outputs": []
    }
  ],
  "metadata": {
    "colab": {
      "provenance": []
    },
    "kernelspec": {
      "display_name": "Python 3",
      "name": "python3"
    },
    "language_info": {
      "name": "python"
    }
  },
  "nbformat": 4,
  "nbformat_minor": 0
}